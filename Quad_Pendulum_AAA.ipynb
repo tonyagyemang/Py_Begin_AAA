{
  "nbformat": 4,
  "nbformat_minor": 0,
  "metadata": {
    "colab": {
      "name": "Copy of Untitled0.ipynb",
      "provenance": [],
      "collapsed_sections": [],
      "authorship_tag": "ABX9TyPCJj7rvX2GHkI30nOhOub/",
      "include_colab_link": true
    },
    "kernelspec": {
      "name": "python3",
      "display_name": "Python 3"
    },
    "language_info": {
      "name": "python"
    }
  },
  "cells": [
    {
      "cell_type": "markdown",
      "metadata": {
        "id": "view-in-github",
        "colab_type": "text"
      },
      "source": [
        "<a href=\"https://colab.research.google.com/github/tonyagyemang/Py_Begin_AAA/blob/master/Quad_Pendulum_AAA.ipynb\" target=\"_parent\"><img src=\"https://colab.research.google.com/assets/colab-badge.svg\" alt=\"Open In Colab\"/></a>"
      ]
    },
    {
      "cell_type": "code",
      "execution_count": 1,
      "metadata": {
        "id": "4d5EFvzRtD59"
      },
      "outputs": [],
      "source": [
        "import numpy as np\n",
        "import sympy as smp\n",
        "from scipy.integrate import odeint \n",
        "import matplotlib.pyplot as plt\n",
        "from matplotlib import animation\n",
        "from mpl_toolkits.mplot3d import Axes3D\n",
        "from matplotlib.animation import PillowWriter"
      ]
    },
    {
      "cell_type": "code",
      "source": [
        "t, g = smp.symbols('t g')\n",
        "m1, m2, m3, m4 = smp.symbols('m1 m2 m3 m4')\n",
        "L1, L2, L3, L4 = smp.symbols('L1 L2 L3 L4')"
      ],
      "metadata": {
        "id": "23WOr_0ZtwVd"
      },
      "execution_count": 2,
      "outputs": []
    },
    {
      "cell_type": "code",
      "source": [
        "Theta1, Theta2, Theta3, Theta4 = smp.symbols(r'\\theta_1, theta_2, theta_3, theta_4', cls = smp.Function)"
      ],
      "metadata": {
        "id": "u3VVAO7cuJgl"
      },
      "execution_count": 3,
      "outputs": []
    },
    {
      "cell_type": "code",
      "source": [
        "Theta1 = Theta1(t)\n",
        "Theta2 = Theta2(t)\n",
        "Theta3 = Theta3(t)\n",
        "Theta4 = Theta4(t)"
      ],
      "metadata": {
        "id": "5U5ciGFguNhF"
      },
      "execution_count": 4,
      "outputs": []
    },
    {
      "cell_type": "code",
      "source": [
        "Theta4"
      ],
      "metadata": {
        "colab": {
          "base_uri": "https://localhost:8080/",
          "height": 39
        },
        "id": "s6EJSmepuYqX",
        "outputId": "df3aefe6-6f9e-470b-ec55-b6a98d9da4a4"
      },
      "execution_count": 5,
      "outputs": [
        {
          "output_type": "execute_result",
          "data": {
            "text/plain": [
              "theta_4(t)"
            ],
            "text/latex": "$\\displaystyle \\theta_{4}{\\left(t \\right)}$"
          },
          "metadata": {},
          "execution_count": 5
        }
      ]
    },
    {
      "cell_type": "code",
      "source": [
        "Theta1_d = smp.diff(Theta1, t)\n",
        "Theta2_d = smp.diff(Theta2, t)\n",
        "Theta3_d = smp.diff(Theta3, t)\n",
        "Theta4_d = smp.diff(Theta4, t)\n",
        "Theta1_dd = smp.diff(Theta1_d, t)\n",
        "Theta2_dd = smp.diff(Theta2_d, t)\n",
        "Theta3_dd = smp.diff(Theta3_d, t)\n",
        "Theta4_dd = smp.diff(Theta4_d, t)"
      ],
      "metadata": {
        "id": "snR2H-McupTd"
      },
      "execution_count": 7,
      "outputs": []
    },
    {
      "cell_type": "code",
      "source": [
        "Theta4_dd"
      ],
      "metadata": {
        "colab": {
          "base_uri": "https://localhost:8080/",
          "height": 54
        },
        "id": "RqQVkmLWuyt9",
        "outputId": "3f4e9c49-36cd-40bb-93cc-a89126cd2f4d"
      },
      "execution_count": 8,
      "outputs": [
        {
          "output_type": "execute_result",
          "data": {
            "text/plain": [
              "Derivative(theta_4(t), (t, 2))"
            ],
            "text/latex": "$\\displaystyle \\frac{d^{2}}{d t^{2}} \\theta_{4}{\\left(t \\right)}$"
          },
          "metadata": {},
          "execution_count": 8
        }
      ]
    },
    {
      "cell_type": "markdown",
      "source": [
        "# Express x1, x2, x3, x4, y1, y2, y3 and y4 in terms of the angles Theta1, Theta2, Theta3 and Theta4."
      ],
      "metadata": {
        "id": "E6EIFI29td6o"
      }
    },
    {
      "cell_type": "code",
      "source": [
        "x1 = L1*smp.sin(Theta1)\n",
        "y1 = -L1*smp.cos(Theta1)\n",
        "x2 = L1*smp.sin(Theta1)+L2*smp.sin(Theta2)\n",
        "y2 = -L1*smp.cos(Theta1)-L2*smp.cos(Theta2)\n",
        "x3 = L1*smp.sin(Theta1)+L2*smp.sin(Theta2)+L3*smp.sin(Theta3)\n",
        "y3 = -L1*smp.cos(Theta1)-L2*smp.cos(Theta2)-L3*smp.cos(Theta3)\n",
        "x4 = L1*smp.sin(Theta1)+L2*smp.sin(Theta2)+L3*smp.sin(Theta3)+L4*smp.sin(Theta4)\n",
        "y4 = -L1*smp.cos(Theta1)-L2*smp.cos(Theta2)-L3*smp.cos(Theta3)-L4*smp.cos(Theta4)"
      ],
      "metadata": {
        "id": "umMeOwe4vBVP"
      },
      "execution_count": 9,
      "outputs": []
    },
    {
      "cell_type": "code",
      "source": [
        "x4"
      ],
      "metadata": {
        "colab": {
          "base_uri": "https://localhost:8080/",
          "height": 39
        },
        "id": "qOfS2IOzvM_e",
        "outputId": "e64b85c3-73bf-4546-d4c1-30f95cdb6fda"
      },
      "execution_count": 10,
      "outputs": [
        {
          "output_type": "execute_result",
          "data": {
            "text/plain": [
              "L1*sin(\\theta_1(t)) + L2*sin(theta_2(t)) + L3*sin(theta_3(t)) + L4*sin(theta_4(t))"
            ],
            "text/latex": "$\\displaystyle L_{1} \\sin{\\left(\\theta_{1}{\\left(t \\right)} \\right)} + L_{2} \\sin{\\left(\\theta_{2}{\\left(t \\right)} \\right)} + L_{3} \\sin{\\left(\\theta_{3}{\\left(t \\right)} \\right)} + L_{4} \\sin{\\left(\\theta_{4}{\\left(t \\right)} \\right)}$"
          },
          "metadata": {},
          "execution_count": 10
        }
      ]
    },
    {
      "cell_type": "markdown",
      "source": [
        "Define the Potential energy, Kinetic energy of each mass and the Lagrangian"
      ],
      "metadata": {
        "id": "M0Cp92I-varG"
      }
    },
    {
      "cell_type": "code",
      "source": [
        "# Kinetic Energy\n",
        "T1 = 1/2 * m1 * (smp.diff(x1, t)**2 + smp.diff(y1, t)**2)\n",
        "T2 = 1/2 * m2 * (smp.diff(x2, t)**2 + smp.diff(y2, t)**2)\n",
        "T3 = 1/2 * m3 * (smp.diff(x3, t)**2 + smp.diff(y3, t)**2)\n",
        "T4 = 1/2 * m4 * (smp.diff(x4, t)**2 + smp.diff(y4, t)**2)\n",
        "T = T1 + T2 + T3 + T4"
      ],
      "metadata": {
        "id": "sy6uyRgzvdf9"
      },
      "execution_count": 11,
      "outputs": []
    },
    {
      "cell_type": "code",
      "source": [
        "# Potential Energy\n",
        "V1 = m1*g*y1\n",
        "V2 = m2*g*y2\n",
        "V3 = m3*g*y3\n",
        "V4 = m4*g*y4\n",
        "V = V1 + V2 + V3 + V4\n",
        "\n",
        "# Lagrangian\n",
        "L = T - V"
      ],
      "metadata": {
        "id": "oa3HnaMSvmxm"
      },
      "execution_count": 12,
      "outputs": []
    },
    {
      "cell_type": "code",
      "source": [
        "# Lagrange's Equations"
      ],
      "metadata": {
        "id": "_DCjX02Pvqt2"
      },
      "execution_count": 13,
      "outputs": []
    },
    {
      "cell_type": "code",
      "source": [
        "LagrangeEqn1 = smp.diff(L, Theta1) - smp.diff(smp.diff(L, Theta1_d), t).simplify()\n",
        "LagrangeEqn2 = smp.diff(L, Theta2) - smp.diff(smp.diff(L, Theta2_d), t).simplify()\n",
        "LagrangeEqn3 = smp.diff(L, Theta3) - smp.diff(smp.diff(L, Theta3_d), t).simplify()\n",
        "LagrangeEqn4 = smp.diff(L, Theta4) - smp.diff(smp.diff(L, Theta4_d), t).simplify()"
      ],
      "metadata": {
        "id": "8B44qG0Yv2ru"
      },
      "execution_count": 14,
      "outputs": []
    },
    {
      "cell_type": "code",
      "source": [
        "# Solve for the Lagrange Equations: Lagrange Equations are each equal to zero.\n",
        "\n",
        "# Solve for the second derivatives: i.e: Theta1_dd, Theta2_dd, Theta3_dd and Theta4_dd\n",
        "Solution = smp.solve([LagrangeEqn1, LagrangeEqn2, LagrangeEqn3, LagrangeEqn4], (Theta1_dd, Theta2_dd, Theta3_dd, Theta4_dd),\n",
        "                    simplify = False, rational = False)"
      ],
      "metadata": {
        "id": "qt_JOCZHv_km"
      },
      "execution_count": null,
      "outputs": []
    }
  ]
}